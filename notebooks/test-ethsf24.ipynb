{
 "cells": [
  {
   "cell_type": "markdown",
   "id": "3e4eb758",
   "metadata": {},
   "source": [
    "## EthSF 24 Test Notebook"
   ]
  },
  {
   "cell_type": "markdown",
   "id": "6baee29d",
   "metadata": {},
   "source": [
    "# A. Owner"
   ]
  },
  {
   "cell_type": "markdown",
   "id": "a4622208",
   "metadata": {},
   "source": [
    "### 1. Create a new session as owner"
   ]
  },
  {
   "cell_type": "code",
   "execution_count": 20,
   "id": "12ce3f0d",
   "metadata": {},
   "outputs": [
    {
     "name": "stdout",
     "output_type": "stream",
     "text": [
      "{\"res\":\"ok\",\"data\":\"pong 1729418044459\"}\n"
     ]
    }
   ],
   "source": [
    "from weaveapi.records import *\n",
    "from weaveapi.options import *\n",
    "from weaveapi.filter import *\n",
    "from weaveapi.weaveh import *\n",
    "\n",
    "import pandas as pd\n",
    "\n",
    "from web3.auto import w3\n",
    "from eth_account.messages import encode_defunct\n",
    "from hexbytes import HexBytes\n",
    "\n",
    "WEAVE_CONFIG = \"config/demo_client_ethan.config\"\n",
    "nodeApiOwner, sessionOwner = connect_weave_api(WEAVE_CONFIG)\n",
    "\n",
    "organization = \"ethan\"\n",
    "\n",
    "data_collection = \"vault\"\n",
    "files_table = \"files\"\n",
    "wallets_table = \"wallets\"\n",
    "hashes_table = \"hashes\""
   ]
  },
  {
   "cell_type": "markdown",
   "id": "27f1ae57",
   "metadata": {},
   "source": [
    "### 2. Create a table to store files"
   ]
  },
  {
   "cell_type": "code",
   "execution_count": 32,
   "id": "3050073f",
   "metadata": {},
   "outputs": [
    {
     "name": "stdout",
     "output_type": "stream",
     "text": [
      "{'res': 'ok', 'target': {'operationType': 'CREATE_TABLE', 'organization': 'ethan', 'account': 'weaveqbmxWqUwhfuBMhiYMvPCndc3TnzAf8cU1J6CBpeFPbu2', 'scope': 'vault', 'table': 'files'}}\n"
     ]
    }
   ],
   "source": [
    "layout = { \n",
    "    \"columns\": { \n",
    "        \"id\": { \"type\": \"LONG\", \"isIndexed\": True, \"isUnique\": True, \"isNullable\": False },\n",
    "        \"ts\": { \"type\": \"LONG\" },\n",
    "        \"writer\": { \"type\": \"STRING\" },\n",
    "        \"sig\": { \"type\": \"STRING\" },\n",
    "        \"access\": { \"type\": \"STRING\" },\n",
    "        \"did\": { \"type\": \"STRING\" },\n",
    "        \"name\": { \"type\": \"STRING\" },\n",
    "        \"type\": { \"type\": \"STRING\" },\n",
    "        \"recipient\": { \"type\": \"STRING\" },\n",
    "        \"content\": { \"type\": \"STRING\" },\n",
    "        \"iv\": { \"type\": \"STRING\" }\n",
    "    }, \n",
    "    \"idColumnIndex\": 0,  # Autogenerates IDs\n",
    "    \"timestampColumnIndex\": 1, # Fills the column automatically with the network time\n",
    "    \"ownerColumnIndex\": 2, # Fills the pubkey column automatically with the public key of the writer\n",
    "    \"signatureColumnIndex\": 3, # Fills the column with an EdDSA signature of the record hash\n",
    "    \"allowedRolesColumnIndex\": 4, # Fills the column with the allowed reader\n",
    "    \"accessExpiryColumnIndex\": 7, # Fills the column with the allowed reader\n",
    "    \"isLocal\": False,\n",
    "    \"applyReadTransformations\": True\n",
    "}\n",
    "\n",
    "nodeApiOwner.dropTable(sessionOwner, data_collection, files_table).get()\n",
    "reply = nodeApiOwner.createTable(sessionOwner, data_collection, files_table, CreateOptions(False, False, layout)).get()\n",
    "print(reply)"
   ]
  },
  {
   "cell_type": "markdown",
   "id": "e7768371",
   "metadata": {},
   "source": [
    "### 3. Create a table to store weave public keys to wallets associations (and ownership proofs)"
   ]
  },
  {
   "cell_type": "code",
   "execution_count": 16,
   "id": "f3266372",
   "metadata": {},
   "outputs": [
    {
     "name": "stdout",
     "output_type": "stream",
     "text": [
      "{'res': 'ok', 'target': {'operationType': 'CREATE_TABLE', 'organization': 'ethan', 'account': 'ethan', 'scope': 'vault', 'table': 'wallets'}}\n"
     ]
    }
   ],
   "source": [
    "layout = { \n",
    "    \"columns\": { \n",
    "        \"id\": { \"type\": \"LONG\", \"isIndexed\": True, \"isUnique\": True, \"isNullable\": False },\n",
    "        \"ts\": { \"type\": \"LONG\" },\n",
    "        \"writer\": { \"type\": \"STRING\" },\n",
    "        \"sig\": { \"type\": \"STRING\" },\n",
    "        \"wallet\": { \"type\": \"STRING\" },\n",
    "        \"signature\": { \"type\": \"STRING\" }\n",
    "    }, \n",
    "    \"idColumnIndex\": 0,  # Autogenerates IDs\n",
    "    \"timestampColumnIndex\": 1, # Fills the column automatically with the network time\n",
    "    \"ownerColumnIndex\": 2, # Fills the pubkey column automatically with the public key of the writer\n",
    "    \"signatureColumnIndex\": 3, # Fills the column with an EdDSA signature of the record hash\n",
    "    \"isLocal\": False,\n",
    "    \"applyReadTransformations\": True\n",
    "}\n",
    "\n",
    "nodeApiOwner.dropTable(sessionOwner, data_collection, wallets_table).get()\n",
    "reply = nodeApiOwner.createTable(sessionOwner, data_collection, wallets_table, CreateOptions(False, False, layout)).get()\n",
    "print(reply)"
   ]
  },
  {
   "cell_type": "markdown",
   "id": "84297b3e",
   "metadata": {},
   "source": [
    "### 5. Create a table to store document hashes"
   ]
  },
  {
   "cell_type": "markdown",
   "id": "7fa476ae",
   "metadata": {},
   "source": [
    "- needed because encrypted versions hash are not a guarantee of integrity\n",
    "- salted hashes could be stored, to avoid dictionary attacks, and the hash made available only on document share\n",
    "- hashes of the records in this table could be eventually put on a blockchain for higher trust"
   ]
  },
  {
   "cell_type": "code",
   "execution_count": 17,
   "id": "52b666b3",
   "metadata": {},
   "outputs": [
    {
     "name": "stdout",
     "output_type": "stream",
     "text": [
      "{'res': 'ok', 'target': {'operationType': 'CREATE_TABLE', 'organization': 'ethan', 'account': 'ethan', 'scope': 'vault', 'table': 'hashes'}}\n"
     ]
    }
   ],
   "source": [
    "layout = { \n",
    "    \"columns\": { \n",
    "        \"id\": { \"type\": \"LONG\", \"isIndexed\": True, \"isUnique\": True, \"isNullable\": False },\n",
    "        \"ts\": { \"type\": \"LONG\" },\n",
    "        \"writer\": { \"type\": \"STRING\" },\n",
    "        \"sig\": { \"type\": \"STRING\" },\n",
    "        \"did\": { \"type\": \"STRING\" },\n",
    "        \"hash\": { \"type\": \"STRING\" }\n",
    "    }, \n",
    "    \"idColumnIndex\": 0,  # Autogenerates IDs\n",
    "    \"timestampColumnIndex\": 1, # Fills the column automatically with the network time\n",
    "    \"ownerColumnIndex\": 2, # Fills the pubkey column automatically with the public key of the writer\n",
    "    \"signatureColumnIndex\": 3, # Fills the column with an EdDSA signature of the record hash\n",
    "    \"isLocal\": False,\n",
    "    \"applyReadTransformations\": True\n",
    "}\n",
    "\n",
    "nodeApiOwner.dropTable(sessionOwner, data_collection, hashes_table).get()\n",
    "reply = nodeApiOwner.createTable(sessionOwner, data_collection, hashes_table, CreateOptions(False, False, layout)).get()\n",
    "print(reply)"
   ]
  },
  {
   "cell_type": "markdown",
   "id": "fe9f20e7",
   "metadata": {},
   "source": [
    "### 5. Add sample file"
   ]
  },
  {
   "cell_type": "code",
   "execution_count": 12,
   "id": "4184f39a",
   "metadata": {},
   "outputs": [
    {
     "name": "stdout",
     "output_type": "stream",
     "text": [
      "{'res': 'ok', 'target': {'operationType': 'WRITE', 'organization': 'ethan', 'account': 'ethan', 'scope': 'vault', 'table': 'files'}, 'data': 'weaveqbmxWqUwhfuBMhiYMvPCndc3TnzAf8cU1J6CBpeFPbu2,/cdt0b+N7r2lLB5xFvr0wE0ObENCi/TQpMd/kPpCE1A=,4GfN7SHmfGAD4yqrU6w4kikMTnWbubgrYKTAipWxXSAMg8iVqj94FHS8Nn63mS6D92BySVrzgjLqwccsAapSjZdX', 'ids': '1'}\n"
     ]
    }
   ],
   "source": [
    "import base64\n",
    "import uuid\n",
    "\n",
    "rows = []\n",
    "\n",
    "access = \"skale:0x3389798389CD7C54C02dBB253c9f7e6851672Ab5\"\n",
    "did = \"did:ethsf24:\" + str(uuid.uuid4()).replace(\"-\", \"\") \n",
    "name = \"test\"\n",
    "expiry = \"2024-10-20\"\n",
    "content_file = \"next.csv\"\n",
    "\n",
    "with open(content_file) as f:\n",
    "    data = f.read()\n",
    "    content = base64.b64encode(data.encode()).decode()\n",
    "    \n",
    "row = [ None, None, None, None, access, did, name, expiry, content ]\n",
    "rows.append(row)\n",
    "\n",
    "records = Records(files_table, rows)\n",
    "#Superseeded by the UI\n",
    "#res = nodeApiOwner.write(sessionOwner, data_collection, records, WRITE_DEFAULT).get()\n",
    "print(res)"
   ]
  },
  {
   "cell_type": "markdown",
   "id": "23b4dbc2",
   "metadata": {},
   "source": [
    "### 5. Read files"
   ]
  },
  {
   "cell_type": "code",
   "execution_count": 33,
   "id": "022b033f",
   "metadata": {},
   "outputs": [
    {
     "data": {
      "text/html": [
       "<div>\n",
       "<style scoped>\n",
       "    .dataframe tbody tr th:only-of-type {\n",
       "        vertical-align: middle;\n",
       "    }\n",
       "\n",
       "    .dataframe tbody tr th {\n",
       "        vertical-align: top;\n",
       "    }\n",
       "\n",
       "    .dataframe thead th {\n",
       "        text-align: right;\n",
       "    }\n",
       "</style>\n",
       "<table border=\"1\" class=\"dataframe\">\n",
       "  <thead>\n",
       "    <tr style=\"text-align: right;\">\n",
       "      <th></th>\n",
       "      <th>id</th>\n",
       "      <th>ts</th>\n",
       "      <th>writer</th>\n",
       "      <th>sig</th>\n",
       "      <th>access</th>\n",
       "      <th>did</th>\n",
       "      <th>name</th>\n",
       "      <th>type</th>\n",
       "      <th>recipient</th>\n",
       "      <th>content</th>\n",
       "      <th>iv</th>\n",
       "    </tr>\n",
       "  </thead>\n",
       "  <tbody>\n",
       "    <tr>\n",
       "      <th>0</th>\n",
       "      <td>10</td>\n",
       "      <td>1729418658054</td>\n",
       "      <td>weavemcePnDu4vUmtMau3uTx1uwQjbhuN7G577NDPuKB5f4o8</td>\n",
       "      <td>[{\"sig\":{\"recordsHash\":\"mjhQMf8CtX5KLZq11yH2dS...</td>\n",
       "      <td>*</td>\n",
       "      <td>did:ethsf24:9806e495def14f06b0b41b00a1a6f68d</td>\n",
       "      <td>1 DdgN97WFjKbKzSPEIg2kcA.webp</td>\n",
       "      <td>image/webp</td>\n",
       "      <td>0x90F8bf6A479f320ead074411a4B0e7944Ea8c9C1</td>\n",
       "      <td>y6fHEdB2dYA+srEFn8bu399UAbXij1XlXaXbTUegYd7u6G...</td>\n",
       "      <td>b8e489ec060460070149c8820f608c80</td>\n",
       "    </tr>\n",
       "  </tbody>\n",
       "</table>\n",
       "</div>"
      ],
      "text/plain": [
       "   id             ts                                             writer  \\\n",
       "0  10  1729418658054  weavemcePnDu4vUmtMau3uTx1uwQjbhuN7G577NDPuKB5f4o8   \n",
       "\n",
       "                                                 sig access  \\\n",
       "0  [{\"sig\":{\"recordsHash\":\"mjhQMf8CtX5KLZq11yH2dS...      *   \n",
       "\n",
       "                                            did  \\\n",
       "0  did:ethsf24:9806e495def14f06b0b41b00a1a6f68d   \n",
       "\n",
       "                            name        type  \\\n",
       "0  1 DdgN97WFjKbKzSPEIg2kcA.webp  image/webp   \n",
       "\n",
       "                                    recipient  \\\n",
       "0  0x90F8bf6A479f320ead074411a4B0e7944Ea8c9C1   \n",
       "\n",
       "                                             content  \\\n",
       "0  y6fHEdB2dYA+srEFn8bu399UAbXij1XlXaXbTUegYd7u6G...   \n",
       "\n",
       "                                 iv  \n",
       "0  b8e489ec060460070149c8820f608c80  "
      ]
     },
     "metadata": {},
     "output_type": "display_data"
    },
    {
     "data": {
      "text/plain": [
       "[{'sig': {'recordsHash': 'mjhQMf8CtX5KLZq11yH2dSMJZRk3RUiBB3mgTQeYhHk=',\n",
       "   'count': '1',\n",
       "   'pubKey': 'weavemcePnDu4vUmtMau3uTx1uwQjbhuN7G577NDPuKB5f4o8',\n",
       "   'sig': '4RFJF2miwaijekXKvbWPZUe1oTPAS24y53KaFdFmRFkSBdSbNqQAMrj8aMeox3VFUxHteB1uXA2QrWx81kiCQ593'}}]"
      ]
     },
     "metadata": {},
     "output_type": "display_data"
    }
   ],
   "source": [
    "filter = Filter(None, { \"id\": \"ASC\" }, None, [ \"did\" ], None)\n",
    "reply = nodeApiOwner.read(sessionOwner, data_collection, files_table, filter, READ_DEFAULT_NO_CHAIN).get()\n",
    "#print(reply)\n",
    "df = pd.DataFrame(reply[\"data\"])\n",
    "\n",
    "display(df.tail())\n",
    "\n",
    "display(json.loads(df[\"sig\"][0]))"
   ]
  }
 ],
 "metadata": {
  "kernelspec": {
   "display_name": "Python 3 (ipykernel)",
   "language": "python",
   "name": "python3"
  },
  "language_info": {
   "codemirror_mode": {
    "name": "ipython",
    "version": 3
   },
   "file_extension": ".py",
   "mimetype": "text/x-python",
   "name": "python",
   "nbconvert_exporter": "python",
   "pygments_lexer": "ipython3",
   "version": "3.9.14"
  }
 },
 "nbformat": 4,
 "nbformat_minor": 5
}
