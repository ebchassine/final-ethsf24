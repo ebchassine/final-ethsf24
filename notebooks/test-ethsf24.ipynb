{
 "cells": [
  {
   "cell_type": "markdown",
   "metadata": {},
   "source": [
    "## EthSF 24 Test Notebook"
   ]
  },
  {
   "cell_type": "markdown",
   "metadata": {},
   "source": [
    "# A. Owner"
   ]
  },
  {
   "cell_type": "markdown",
   "metadata": {},
   "source": [
    "### 1. Create a new session as owner"
   ]
  },
  {
   "cell_type": "code",
   "execution_count": null,
   "metadata": {
    "vscode": {
     "languageId": "plaintext"
    }
   },
   "outputs": [],
   "source": [
    "from weaveapi.records import *\n",
    "from weaveapi.options import *\n",
    "from weaveapi.filter import *\n",
    "from weaveapi.weaveh import *\n",
    "\n",
    "import pandas as pd\n",
    "\n",
    "from web3.auto import w3\n",
    "from eth_account.messages import encode_defunct\n",
    "from hexbytes import HexBytes\n",
    "\n",
    "WEAVE_CONFIG = \"config/demo_client_ethan.config\"\n",
    "nodeApiOwner, sessionOwner = connect_weave_api(WEAVE_CONFIG)\n",
    "\n",
    "organization = \"ethan\"\n",
    "\n",
    "data_collection = \"vault\"\n",
    "files_table = \"files\"\n",
    "wallets_table = \"wallets\"\n",
    "hashes_table = \"hashes\""
   ]
  },
  {
   "cell_type": "markdown",
   "metadata": {},
   "source": [
    "### 2. Create a table to store files"
   ]
  },
  {
   "cell_type": "code",
   "execution_count": null,
   "metadata": {
    "vscode": {
     "languageId": "plaintext"
    }
   },
   "outputs": [],
   "source": [
    "layout = { \n",
    "    \"columns\": { \n",
    "        \"id\": { \"type\": \"LONG\", \"isIndexed\": True, \"isUnique\": True, \"isNullable\": False },\n",
    "        \"ts\": { \"type\": \"LONG\" },\n",
    "        \"writer\": { \"type\": \"STRING\" },\n",
    "        \"sig\": { \"type\": \"STRING\" },\n",
    "        \"access\": { \"type\": \"STRING\" },\n",
    "        \"did\": { \"type\": \"STRING\" },\n",
    "        \"name\": { \"type\": \"STRING\" },\n",
    "        \"recipient\": { \"type\": \"STRING\" },\n",
    "        \"content\": { \"type\": \"STRING\" }\n",
    "    }, \n",
    "    \"idColumnIndex\": 0,  # Autogenerates IDs\n",
    "    \"timestampColumnIndex\": 1, # Fills the column automatically with the network time\n",
    "    \"ownerColumnIndex\": 2, # Fills the pubkey column automatically with the public key of the writer\n",
    "    \"signatureColumnIndex\": 3, # Fills the column with an EdDSA signature of the record hash\n",
    "    \"allowedRolesColumnIndex\": 4, # Fills the column with the allowed reader\n",
    "    \"accessExpiryColumnIndex\": 7, # Fills the column with the allowed reader\n",
    "    \"isLocal\": False,\n",
    "    \"applyReadTransformations\": True\n",
    "}\n",
    "\n",
    "nodeApiOwner.dropTable(sessionOwner, data_collection, files_table).get()\n",
    "reply = nodeApiOwner.createTable(sessionOwner, data_collection, files_table, CreateOptions(False, False, layout)).get()\n",
    "print(reply)"
   ]
  },
  {
   "cell_type": "markdown",
   "metadata": {},
   "source": []
  }
 ],
 "metadata": {
  "language_info": {
   "name": "python"
  }
 },
 "nbformat": 4,
 "nbformat_minor": 2
}
